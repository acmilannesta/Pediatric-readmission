{
  "nbformat": 4,
  "nbformat_minor": 0,
  "metadata": {
    "colab": {
      "name": "Untitled1.ipynb",
      "version": "0.3.2",
      "provenance": [],
      "include_colab_link": true
    },
    "kernelspec": {
      "name": "python3",
      "display_name": "Python 3"
    },
    "accelerator": "GPU"
  },
  "cells": [
    {
      "cell_type": "markdown",
      "metadata": {
        "id": "view-in-github",
        "colab_type": "text"
      },
      "source": [
        "<a href=\"https://colab.research.google.com/github/acmilannesta/Pediatric-readmission/blob/master/Pedatric%20readmission%20Catboost%20%26%20LGBM.ipynb\" target=\"_parent\"><img src=\"https://colab.research.google.com/assets/colab-badge.svg\" alt=\"Open In Colab\"/></a>"
      ]
    },
    {
      "cell_type": "code",
      "metadata": {
        "id": "QXFxHpMNBYAX",
        "colab_type": "code",
        "colab": {
          "base_uri": "https://localhost:8080/",
          "height": 118
        },
        "outputId": "7267448e-c13e-432e-bc6d-d1108787dd2c"
      },
      "source": [
        "!git clone https://github.com/acmilannesta/Pediatric-readmission"
      ],
      "execution_count": 1,
      "outputs": [
        {
          "output_type": "stream",
          "text": [
            "Cloning into 'Pediatric-readmission'...\n",
            "remote: Enumerating objects: 4, done.\u001b[K\n",
            "remote: Counting objects: 100% (4/4), done.\u001b[K\n",
            "remote: Compressing objects: 100% (4/4), done.\u001b[K\n",
            "remote: Total 4 (delta 1), reused 0 (delta 0), pack-reused 0\u001b[K\n",
            "Unpacking objects: 100% (4/4), done.\n"
          ],
          "name": "stdout"
        }
      ]
    },
    {
      "cell_type": "code",
      "metadata": {
        "id": "oLR2QafUEwLR",
        "colab_type": "code",
        "colab": {
          "base_uri": "https://localhost:8080/",
          "height": 218
        },
        "outputId": "9e4b2d5e-fb8c-4800-b95c-3be90db569f0"
      },
      "source": [
        "!pip install catboost"
      ],
      "execution_count": 3,
      "outputs": [
        {
          "output_type": "stream",
          "text": [
            "Collecting catboost\n",
            "\u001b[?25l  Downloading https://files.pythonhosted.org/packages/2f/c4/f130237b24efd1941cb685da12496675a90045129b66774751f1bf629dfd/catboost-0.14.2-cp36-none-manylinux1_x86_64.whl (60.6MB)\n",
            "\u001b[K     |████████████████████████████████| 60.6MB 1.2MB/s \n",
            "\u001b[?25hRequirement already satisfied: graphviz in /usr/local/lib/python3.6/dist-packages (from catboost) (0.10.1)\n",
            "Requirement already satisfied: pandas>=0.19.1 in /usr/local/lib/python3.6/dist-packages (from catboost) (0.24.2)\n",
            "Requirement already satisfied: numpy>=1.11.1 in /usr/local/lib/python3.6/dist-packages (from catboost) (1.16.3)\n",
            "Requirement already satisfied: enum34 in /usr/local/lib/python3.6/dist-packages (from catboost) (1.1.6)\n",
            "Requirement already satisfied: six in /usr/local/lib/python3.6/dist-packages (from catboost) (1.12.0)\n",
            "Requirement already satisfied: pytz>=2011k in /usr/local/lib/python3.6/dist-packages (from pandas>=0.19.1->catboost) (2018.9)\n",
            "Requirement already satisfied: python-dateutil>=2.5.0 in /usr/local/lib/python3.6/dist-packages (from pandas>=0.19.1->catboost) (2.5.3)\n",
            "Installing collected packages: catboost\n",
            "Successfully installed catboost-0.14.2\n"
          ],
          "name": "stdout"
        }
      ]
    },
    {
      "cell_type": "code",
      "metadata": {
        "id": "K-VVlOQTBmFF",
        "colab_type": "code",
        "colab": {}
      },
      "source": [
        "import pandas as pd, numpy as np\n",
        "from sklearn.preprocessing import LabelEncoder\n",
        "from sklearn.metrics import roc_auc_score\n",
        "from sklearn.model_selection import StratifiedKFold\n",
        "from catboost import CatBoostClassifier\n",
        "from hyperopt import fmin, hp, tpe, STATUS_OK, Trials"
      ],
      "execution_count": 0,
      "outputs": []
    },
    {
      "cell_type": "code",
      "metadata": {
        "id": "fU0LFQtnE1t4",
        "colab_type": "code",
        "colab": {}
      },
      "source": [
        "one = pd.read_sas('Pediatric-readmission/peds_usrds_validation.sas7bdat', encoding='latin1')\n",
        "two = pd.read_sas('Pediatric-readmission/extra_variables_05162019.sas7bdat', encoding='latin1')\n",
        "three = one.merge(two, on='MRN')\n",
        "features_list = [\n",
        "            'COMO_ALCHO',\n",
        "            'COMO_CHF',\n",
        "            'COMO_COPD',\n",
        "            'COMO_CVATIA',\n",
        "            'COMO_DRUG',\n",
        "            'COMO_INAMB',\n",
        "            'COMO_INTRANS',\n",
        "            'COMO_TOBAC',\n",
        "            'DAGE',\n",
        "            'DRACE',\n",
        "            'DSEX',\n",
        "            'DTYPE',\n",
        "            'MATC',\n",
        "#             'PDIS',\n",
        "            'RACE',\n",
        "            'RAGE',\n",
        "            'RSEX',\n",
        "            'RXDETAIL',\n",
        "            'Thymoglobulin',\n",
        "            'anti_il2',\n",
        "            'cmv_risk',\n",
        "            'dbmi',\n",
        "            'diabetes',\n",
        "            'induction',\n",
        "            'los',\n",
        "            'modality_tx',\n",
        "            'prior_tx',\n",
        "            'rbmi_tx',\n",
        "            'rtx',\n",
        "            'steriods',\n",
        "            'timeto_waitlist',\n",
        "            'vintage',\n",
        "            'zipcode_change',\n",
        "            'cold_isch_pump_ki'\n",
        "            ]\n",
        "features_list.extend(two.drop('MRN', 1).columns)\n",
        "X = three[features_list]\n",
        "y = three['readmit_90day']\n",
        "\n",
        "# Sum up comorbidities\n",
        "como = X.filter(regex='COMO_').dropna().apply(lambda x: LabelEncoder().fit_transform(x), 0)\n",
        "como['como_tot'] = (como.sum(axis=1) > 0).astype(int)\n",
        "X = X.filter(regex='^(?!COMO_)').join(como['como_tot'])\n",
        "\n",
        "# Race match\n",
        "X['RACE_match'] = X['DRACE'].astype(str)+X['RACE'].astype(str)\n",
        "\n",
        "# Donor and recipient age difference\n",
        "# Mean: 16.6, Std: 11.3, Median: 15, IQR: 7-26, Min: 0, Max: 57\n",
        "X['AGE_DIFF'] = (X['DAGE'] - X['RAGE']).abs()\n",
        "\n",
        "# add polynomial terms to X with high importance\n",
        "X['timeto_waitlist_p2'] = X['timeto_waitlist'] ** 2\n",
        "X['timeto_waitlist_p3'] = X['timeto_waitlist'] ** 3\n",
        "X['rbmi_tx_p2'] = X['rbmi_tx'] ** 2\n",
        "X['rbmi_tx_p3'] = X['rbmi_tx'] ** 3\n",
        "X['dbmi_p2'] = X['dbmi'] ** 2\n",
        "X['dbmi_p3'] = X['dbmi'] ** 3\n",
        "X['cold_isch_pump_ki_p2'] = X['cold_isch_pump_ki'] ** 2\n",
        "X['cold_isch_pump_ki_p3'] = X['cold_isch_pump_ki'] ** 3\n",
        "X['los_p2'] = X['los'] ** 2\n",
        "X['los_p3'] = X['los'] ** 3"
      ],
      "execution_count": 0,
      "outputs": []
    },
    {
      "cell_type": "markdown",
      "metadata": {
        "id": "hG0Dr5gWKxJe",
        "colab_type": "text"
      },
      "source": [
        "##Catboost Model"
      ]
    },
    {
      "cell_type": "code",
      "metadata": {
        "id": "jlEnhd1kFOyb",
        "colab_type": "code",
        "colab": {}
      },
      "source": [
        "X_cat = X.copy()\n",
        "cat_colidx = [X_cat.columns.get_loc(col) for col in X_cat.columns if X_cat[col].nunique() <= 10 or col in ['RACE_match']]\n",
        "for col in cat_colidx:\n",
        "    if X_cat[X_cat.columns[col]].dtype == 'float64':\n",
        "        X_cat[X_cat.columns[col]] = X_cat[X_cat.columns[col]].fillna(-1).astype(int)\n",
        "    else:\n",
        "        X_cat[X_cat.columns[col]] =X_cat[X_cat.columns[col]].fillna('')"
      ],
      "execution_count": 0,
      "outputs": []
    },
    {
      "cell_type": "code",
      "metadata": {
        "id": "RMWMsWQVFUIE",
        "colab_type": "code",
        "colab": {
          "base_uri": "https://localhost:8080/",
          "height": 34
        },
        "outputId": "c9c774a4-d1d3-4988-8eab-46617e1d274b"
      },
      "source": [
        "cbc_params = {\n",
        "    'max_depth': hp.choice('max_depth', np.arange(2, 11)),\n",
        "    'l2_leaf_reg': hp.uniform('l2_leaf_reg', 0, 500),\n",
        "    'colsample_bylevel': hp.uniform('colsample_bylevel', 0.05, 1),\n",
        "#     'subsample': hp.uniform('subsample', 0.1, 1),\n",
        "    'eta': hp.uniform('eta', 0.01, 0.1),\n",
        "#     'bootstrap_type': hp.choice('bootstrap_type', ['Bernoulli', 'Poisson', 'No']),\n",
        "#     'one_hot_max_size': hp.choice('one_hot_max_size', np.arange(2,6))\n",
        "}\n",
        "\n",
        "def f_cbc(params):\n",
        "    kfold = StratifiedKFold(5, True, 2019)\n",
        "    auc = np.zeros(kfold.get_n_splits())\n",
        "    cbc_pred = np.zeros(len(X))\n",
        "    featureimp = np.zeros(X.shape[1])\n",
        "    cbc = CatBoostClassifier(\n",
        "        **params,\n",
        "        n_estimators=999999,\n",
        "        random_state=2019,\n",
        "        eval_metric='AUC',\n",
        "        cat_features=cat_colidx,\n",
        "        silent=True,\n",
        "        one_hot_max_size=2,\n",
        "#         bootstrap_type='Bernoulli',\n",
        "#         boosting_type='Plain',\n",
        "#         task_type='GPU',\n",
        "    )\n",
        "    for i, (tr_idx, val_idx) in enumerate(kfold.split(X_cat, y)):\n",
        "        clf = cbc.fit(X_cat.iloc[tr_idx],\n",
        "                      y[tr_idx],\n",
        "                      use_best_model=True,\n",
        "                      eval_set=(X_cat.iloc[val_idx], y[val_idx]),\n",
        "                      early_stopping_rounds=200,\n",
        "                      verbose_eval=False)\n",
        "        cbc_pred[val_idx] = clf.predict_proba(X_cat.iloc[val_idx])[:, 1]\n",
        "        featureimp += np.asarray(clf.get_feature_importance()) / kfold.n_splits\n",
        "        auc[i] = roc_auc_score(y[val_idx], cbc_pred[val_idx])\n",
        "    return {'loss': -np.mean(auc).round(5), 'status': STATUS_OK, 'featureimp': featureimp}\n",
        "\n",
        "trials = Trials()\n",
        "cbc_best = fmin(f_cbc, cbc_params, algo=tpe.suggest, rstate=np.random.RandomState(2019), max_evals=50, trials=trials)"
      ],
      "execution_count": 0,
      "outputs": [
        {
          "output_type": "stream",
          "text": [
            " 74%|███████▍  | 37/50 [25:48<16:11, 74.75s/it, best loss: -0.75692]"
          ],
          "name": "stdout"
        }
      ]
    },
    {
      "cell_type": "markdown",
      "metadata": {
        "id": "qQPJhhUDNScT",
        "colab_type": "text"
      },
      "source": [
        "##LGBM model"
      ]
    },
    {
      "cell_type": "code",
      "metadata": {
        "id": "oH_8pRItJvbR",
        "colab_type": "code",
        "colab": {}
      },
      "source": [
        "!pip uninstall lightgbm\n",
        "!pip install lightgbm --install-option=--gpu"
      ],
      "execution_count": 0,
      "outputs": []
    },
    {
      "cell_type": "code",
      "metadata": {
        "id": "5W286xflKJnf",
        "colab_type": "code",
        "colab": {}
      },
      "source": [
        "import os,  pandas as pd,  numpy as np, gc\n",
        "from sklearn.metrics import roc_auc_score\n",
        "from sklearn.model_selection import StratifiedKFold\n",
        "from hyperopt import fmin, hp, tpe, STATUS_OK, Trials\n",
        "from sklearn.preprocessing import LabelEncoder\n",
        "import lightgbm as lgbm\n",
        "import warnings\n",
        "warnings.filterwarnings(\"ignore\")"
      ],
      "execution_count": 0,
      "outputs": []
    },
    {
      "cell_type": "code",
      "metadata": {
        "id": "GBw4yV1FKtaw",
        "colab_type": "code",
        "colab": {}
      },
      "source": [
        "X_lgb = X.copy()\n",
        "cat_col = [X_lgb.columns.get_loc(col) for col in X_lgb.columns if 2 <= X_lgb[col].nunique() <= 10]\n",
        "for col in X_lgb.columns:\n",
        "    if X_lgb[col].dtype == 'O':\n",
        "        X_lgb[col] = LabelEncoder().fit_transform(X_lgb[col].fillna('Unknown'))\n",
        "    elif 2 < X_lgb[col].nunique() <= 10:\n",
        "        X_lgb[col] = LabelEncoder().fit_transform(X_lgb[col].fillna(99))"
      ],
      "execution_count": 0,
      "outputs": []
    },
    {
      "cell_type": "code",
      "metadata": {
        "id": "pHp-8Ip9HvtA",
        "colab_type": "code",
        "colab": {}
      },
      "source": [
        "lgbm_param = {\n",
        "        'num_leaves': hp.choice('num_leaves', np.arange(2, 21)),\n",
        "        'learning_rate': hp.uniform('learning_rate', 0.005, 0.1),\n",
        "        'feature_fraction': hp.uniform('feature_fraction', 0.05, 1),\n",
        "        'max_depth': hp.choice('max_depth', np.arange(2, 11)),\n",
        "        'objective': 'binary',\n",
        "#         'boosting_type': 'dart',\n",
        "        'metric': 'auc',\n",
        "        'verbose': -1,\n",
        "       'device_type': 'gpu'\n",
        "    }\n",
        "\n",
        "def f_lgbm(params):\n",
        "    lgbm_pred = np.zeros((len(X_lgb), ))\n",
        "    auc = np.zeros(5)\n",
        "    featureimp = np.zeros(len(X_lgb))\n",
        "    for i, (tr_idx, te_idx) in enumerate(StratifiedKFold(5, True, 2019).split(X_lgb, y)):\n",
        "        tr_data = lgbm.Dataset(X_lgb.values[tr_idx], y.ravel()[tr_idx], categorical_feature=cat_col)\n",
        "        te_data = lgbm.Dataset(X_lgb.values[te_idx], y.ravel()[te_idx], categorical_feature=cat_col)\n",
        "        clf = lgbm.train(params,\n",
        "                         tr_data,\n",
        "                         num_boost_round=9999999,\n",
        "                         verbose_eval=False,\n",
        "                         valid_sets=[tr_data, te_data],\n",
        "                         early_stopping_rounds=200,\n",
        "                    )\n",
        "        lgbm_pred[te_idx] = clf.predict(X_lgb.values[te_idx], num_iteration=clf.best_iteration)\n",
        "        featureimp += clf.feature_importance() / 5\n",
        "        auc[i] = roc_auc_score(y.ravel()[te_idx], lgbm_pred[te_idx])\n",
        "        del clf\n",
        "        gc.collect()\n",
        "    return {'loss': -np.mean(auc).round(5), 'status': STATUS_OK, 'featureimp': featureimp}\n",
        "\n",
        "trials_lgb = Trials()\n",
        "lgbm_best = fmin(f_lgbm, lgbm_param, algo=tpe.suggest, rstate=np.random.RandomState(2019), max_evals=100, trials=trials_lgb)"
      ],
      "execution_count": 0,
      "outputs": []
    }
  ]
}