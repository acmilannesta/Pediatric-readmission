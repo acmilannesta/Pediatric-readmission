{
  "nbformat": 4,
  "nbformat_minor": 0,
  "metadata": {
    "colab": {
      "name": "Untitled1.ipynb",
      "version": "0.3.2",
      "provenance": [],
      "toc_visible": true,
      "include_colab_link": true
    },
    "kernelspec": {
      "name": "python3",
      "display_name": "Python 3"
    },
    "accelerator": "GPU"
  },
  "cells": [
    {
      "cell_type": "markdown",
      "metadata": {
        "id": "view-in-github",
        "colab_type": "text"
      },
      "source": [
        "<a href=\"https://colab.research.google.com/github/acmilannesta/Pediatric-readmission/blob/master/Pedatric%20readmission%20Catboost%20%26%20LGBM.ipynb\" target=\"_parent\"><img src=\"https://colab.research.google.com/assets/colab-badge.svg\" alt=\"Open In Colab\"/></a>"
      ]
    },
    {
      "cell_type": "code",
      "metadata": {
        "id": "QXFxHpMNBYAX",
        "colab_type": "code",
        "colab": {
          "base_uri": "https://localhost:8080/",
          "height": 121
        },
        "outputId": "347df964-ac6c-43db-81ed-08c8acb96a9a"
      },
      "source": [
        "!git clone https://github.com/acmilannesta/Pediatric-readmission"
      ],
      "execution_count": 1,
      "outputs": [
        {
          "output_type": "stream",
          "text": [
            "Cloning into 'Pediatric-readmission'...\n",
            "remote: Enumerating objects: 13, done.\u001b[K\n",
            "remote: Counting objects: 100% (13/13), done.\u001b[K\n",
            "remote: Compressing objects: 100% (13/13), done.\u001b[K\n",
            "remote: Total 13 (delta 6), reused 0 (delta 0), pack-reused 0\u001b[K\n",
            "Unpacking objects: 100% (13/13), done.\n"
          ],
          "name": "stdout"
        }
      ]
    },
    {
      "cell_type": "code",
      "metadata": {
        "id": "oLR2QafUEwLR",
        "colab_type": "code",
        "colab": {
          "base_uri": "https://localhost:8080/",
          "height": 245
        },
        "outputId": "f3f9b136-df00-4050-be83-bb8c8f35d7d3"
      },
      "source": [
        "!pip install catboost"
      ],
      "execution_count": 2,
      "outputs": [
        {
          "output_type": "stream",
          "text": [
            "Collecting catboost\n",
            "\u001b[?25l  Downloading https://files.pythonhosted.org/packages/2f/c4/f130237b24efd1941cb685da12496675a90045129b66774751f1bf629dfd/catboost-0.14.2-cp36-none-manylinux1_x86_64.whl (60.6MB)\n",
            "\u001b[K     |████████████████████████████████| 60.6MB 1.3MB/s \n",
            "\u001b[?25hRequirement already satisfied: pandas>=0.19.1 in /usr/local/lib/python3.6/dist-packages (from catboost) (0.24.2)\n",
            "Requirement already satisfied: numpy>=1.11.1 in /usr/local/lib/python3.6/dist-packages (from catboost) (1.16.3)\n",
            "Requirement already satisfied: six in /usr/local/lib/python3.6/dist-packages (from catboost) (1.12.0)\n",
            "Requirement already satisfied: graphviz in /usr/local/lib/python3.6/dist-packages (from catboost) (0.10.1)\n",
            "Requirement already satisfied: enum34 in /usr/local/lib/python3.6/dist-packages (from catboost) (1.1.6)\n",
            "Requirement already satisfied: pytz>=2011k in /usr/local/lib/python3.6/dist-packages (from pandas>=0.19.1->catboost) (2018.9)\n",
            "Requirement already satisfied: python-dateutil>=2.5.0 in /usr/local/lib/python3.6/dist-packages (from pandas>=0.19.1->catboost) (2.5.3)\n",
            "Installing collected packages: catboost\n",
            "Successfully installed catboost-0.14.2\n"
          ],
          "name": "stdout"
        }
      ]
    },
    {
      "cell_type": "code",
      "metadata": {
        "id": "K-VVlOQTBmFF",
        "colab_type": "code",
        "colab": {}
      },
      "source": [
        "import pandas as pd, numpy as np, gc\n",
        "from sklearn.preprocessing import LabelEncoder\n",
        "from sklearn.metrics import roc_auc_score\n",
        "from sklearn.model_selection import StratifiedKFold\n",
        "from catboost import CatBoostClassifier\n",
        "from hyperopt import fmin, hp, tpe, STATUS_OK, Trials\n",
        "from hyperopt.pyll import scope"
      ],
      "execution_count": 0,
      "outputs": []
    },
    {
      "cell_type": "code",
      "metadata": {
        "id": "fU0LFQtnE1t4",
        "colab_type": "code",
        "colab": {}
      },
      "source": [
        "one = pd.read_sas('Pediatric-readmission/peds_usrds_validation.sas7bdat', encoding='latin1')\n",
        "two = pd.read_sas('Pediatric-readmission/extra_variables_05162019.sas7bdat', encoding='latin1')\n",
        "three = one.merge(two, on='MRN')\n",
        "features_list = [\n",
        "            'COMO_ALCHO',\n",
        "            'COMO_CHF',\n",
        "            'COMO_COPD',\n",
        "            'COMO_CVATIA',\n",
        "            'COMO_DRUG',\n",
        "            'COMO_INAMB',\n",
        "            'COMO_INTRANS',\n",
        "            'COMO_TOBAC',\n",
        "            'DAGE',\n",
        "            'DRACE',\n",
        "            'DSEX',\n",
        "            'DTYPE',\n",
        "            'MATC',\n",
        "#             'PDIS',\n",
        "            'RACE',\n",
        "            'RAGE',\n",
        "            'RSEX',\n",
        "            'RXDETAIL',\n",
        "            'Thymoglobulin',\n",
        "            'anti_il2',\n",
        "            'cmv_risk',\n",
        "            'dbmi',\n",
        "            'diabetes',\n",
        "            'induction',\n",
        "            'los',\n",
        "            'modality_tx',\n",
        "            'prior_tx',\n",
        "            'rbmi_tx',\n",
        "            'rtx',\n",
        "            'steriods',\n",
        "            'timeto_waitlist',\n",
        "            'vintage',\n",
        "            'zipcode_change',\n",
        "            'cold_isch_pump_ki'\n",
        "            ]\n",
        "features_list.extend(two.drop('MRN', 1).columns)\n",
        "X = three[features_list]\n",
        "y = three['readmit_90day']\n",
        "\n",
        "# Sum up comorbidities\n",
        "como = X.filter(regex='COMO_').dropna().apply(lambda x: LabelEncoder().fit_transform(x), 0)\n",
        "como['como_tot'] = (como.sum(axis=1) > 0).astype(int)\n",
        "X = X.filter(regex='^(?!COMO_)').join(como['como_tot'])\n",
        "\n",
        "# Race match\n",
        "X['RACE_match'] = X['DRACE'].astype(str)+X['RACE'].astype(str)\n",
        "\n",
        "# Donor and recipient age difference\n",
        "# Mean: 16.6, Std: 11.3, Median: 15, IQR: 7-26, Min: 0, Max: 57\n",
        "X['AGE_DIFF'] = (X['DAGE'] - X['RAGE']).abs()\n",
        "\n",
        "# add polynomial terms to X with high importance\n",
        "X['timeto_waitlist_p2'] = X['timeto_waitlist'] ** 2\n",
        "X['timeto_waitlist_p3'] = X['timeto_waitlist'] ** 3\n",
        "X['rbmi_tx_p2'] = X['rbmi_tx'] ** 2\n",
        "X['rbmi_tx_p3'] = X['rbmi_tx'] ** 3\n",
        "X['dbmi_p2'] = X['dbmi'] ** 2\n",
        "X['dbmi_p3'] = X['dbmi'] ** 3\n",
        "X['cold_isch_pump_ki_p2'] = X['cold_isch_pump_ki'] ** 2\n",
        "X['cold_isch_pump_ki_p3'] = X['cold_isch_pump_ki'] ** 3\n",
        "X['los_p2'] = X['los'] ** 2\n",
        "X['los_p3'] = X['los'] ** 3"
      ],
      "execution_count": 0,
      "outputs": []
    },
    {
      "cell_type": "markdown",
      "metadata": {
        "id": "hG0Dr5gWKxJe",
        "colab_type": "text"
      },
      "source": [
        "##Catboost Model"
      ]
    },
    {
      "cell_type": "code",
      "metadata": {
        "id": "jlEnhd1kFOyb",
        "colab_type": "code",
        "colab": {}
      },
      "source": [
        "X_cat = X.copy()\n",
        "cat_colidx = [X_cat.columns.get_loc(col) for col in X_cat.columns if X_cat[col].nunique() <= 10 or col in ['RACE_match']]\n",
        "for col in cat_colidx:\n",
        "    if X_cat[X_cat.columns[col]].dtype == 'float64':\n",
        "        X_cat[X_cat.columns[col]] = X_cat[X_cat.columns[col]].fillna(-1).astype(int)\n",
        "    else:\n",
        "        X_cat[X_cat.columns[col]] =X_cat[X_cat.columns[col]].fillna('')"
      ],
      "execution_count": 0,
      "outputs": []
    },
    {
      "cell_type": "code",
      "metadata": {
        "id": "RMWMsWQVFUIE",
        "colab_type": "code",
        "outputId": "93780a2f-68ae-4bf1-f6e7-8879f0cb44d7",
        "colab": {
          "base_uri": "https://localhost:8080/",
          "height": 35
        }
      },
      "source": [
        "cbc_params = {\n",
        "    'max_depth': scope.int(hp.quniform('max_depth', 2, 11, 1)),\n",
        "    'l2_leaf_reg': hp.uniform('l2_leaf_reg', 500, 2000),\n",
        "    'colsample_bylevel': hp.uniform('colsample_bylevel', 0.05, 0.3),\n",
        "#     'subsample': hp.uniform('subsample', 0.1, 1),\n",
        "    'eta': hp.uniform('eta', 0.01, 0.1),\n",
        "#     'bootstrap_type': hp.choice('bootstrap_type', ['Bernoulli', 'Poisson', 'No']),\n",
        "#     'one_hot_max_size': scope.int(hp.quniform('one_hot_max_size', 2, 11, 1)),\n",
        "}\n",
        "\n",
        "def f_cbc(params):\n",
        "    kfold = StratifiedKFold(5, True, 2019)\n",
        "    auc = np.zeros(kfold.get_n_splits())\n",
        "    cbc_pred = np.zeros(len(X_cat))\n",
        "    featureimp = np.zeros(X_cat.shape[1])\n",
        "    cbc = CatBoostClassifier(\n",
        "        **params,\n",
        "        n_estimators=999999,\n",
        "        random_state=2019,\n",
        "        eval_metric='AUC',\n",
        "        cat_features=cat_colidx,\n",
        "        silent=True,\n",
        "        one_hot_max_size=2,\n",
        "#         bootstrap_type='Bernoulli',\n",
        "#         boosting_type='Plain',\n",
        "#         task_type='GPU',\n",
        "    )\n",
        "    for i, (tr_idx, val_idx) in enumerate(kfold.split(X_cat, y)):\n",
        "        clf = cbc.fit(X_cat.iloc[tr_idx],\n",
        "                      y[tr_idx],\n",
        "                      use_best_model=True,\n",
        "                      eval_set=(X_cat.iloc[val_idx], y[val_idx]),\n",
        "                      early_stopping_rounds=500,\n",
        "                      verbose_eval=False)\n",
        "        cbc_pred[val_idx] = clf.predict_proba(X_cat.iloc[val_idx])[:, 1]\n",
        "        featureimp += np.asarray(clf.get_feature_importance()) / kfold.n_splits\n",
        "        auc[i] = roc_auc_score(y[val_idx], cbc_pred[val_idx])\n",
        "        del clf\n",
        "        gc.collect()\n",
        "    return {'loss': -np.mean(auc).round(5), 'status': STATUS_OK, 'featureimp': featureimp}\n",
        "\n",
        "trials = Trials()\n",
        "cbc_best = fmin(f_cbc, cbc_params, algo=tpe.suggest, rstate=np.random.RandomState(9012), max_evals=50, trials=trials)"
      ],
      "execution_count": 8,
      "outputs": [
        {
          "output_type": "stream",
          "text": [
            "100%|██████████| 50/50 [1:52:12<00:00, 86.00s/it, best loss: -0.76835] \n"
          ],
          "name": "stdout"
        }
      ]
    },
    {
      "cell_type": "code",
      "metadata": {
        "id": "YAGBR163S4DW",
        "colab_type": "code",
        "outputId": "1ac899e4-1d65-4aa3-ce7c-5c86b399ab21",
        "colab": {
          "base_uri": "https://localhost:8080/",
          "height": 55
        }
      },
      "source": [
        "print(cbc_best)"
      ],
      "execution_count": 9,
      "outputs": [
        {
          "output_type": "stream",
          "text": [
            "{'colsample_bylevel': 0.1768121090550874, 'eta': 0.0400933533641472, 'l2_leaf_reg': 1414.690117033347, 'max_depth': 5.0}\n"
          ],
          "name": "stdout"
        }
      ]
    },
    {
      "cell_type": "code",
      "metadata": {
        "id": "JQAjDi-uPvai",
        "colab_type": "code",
        "outputId": "a92e6b26-ceed-431a-be7a-210a1476fb8f",
        "colab": {
          "base_uri": "https://localhost:8080/",
          "height": 662
        }
      },
      "source": [
        " pd.DataFrame({'features': X_cat.columns, 'importance': trials.best_trial['result']['featureimp']}).sort_values('importance', ascending=False).head(20)"
      ],
      "execution_count": 10,
      "outputs": [
        {
          "output_type": "execute_result",
          "data": {
            "text/html": [
              "<div>\n",
              "<style scoped>\n",
              "    .dataframe tbody tr th:only-of-type {\n",
              "        vertical-align: middle;\n",
              "    }\n",
              "\n",
              "    .dataframe tbody tr th {\n",
              "        vertical-align: top;\n",
              "    }\n",
              "\n",
              "    .dataframe thead th {\n",
              "        text-align: right;\n",
              "    }\n",
              "</style>\n",
              "<table border=\"1\" class=\"dataframe\">\n",
              "  <thead>\n",
              "    <tr style=\"text-align: right;\">\n",
              "      <th></th>\n",
              "      <th>features</th>\n",
              "      <th>importance</th>\n",
              "    </tr>\n",
              "  </thead>\n",
              "  <tbody>\n",
              "    <tr>\n",
              "      <th>22</th>\n",
              "      <td>vintage</td>\n",
              "      <td>11.502837</td>\n",
              "    </tr>\n",
              "    <tr>\n",
              "      <th>37</th>\n",
              "      <td>dbp_stay_mean</td>\n",
              "      <td>6.734919</td>\n",
              "    </tr>\n",
              "    <tr>\n",
              "      <th>46</th>\n",
              "      <td>timeto_waitlist_p2</td>\n",
              "      <td>5.553072</td>\n",
              "    </tr>\n",
              "    <tr>\n",
              "      <th>2</th>\n",
              "      <td>DSEX</td>\n",
              "      <td>4.985403</td>\n",
              "    </tr>\n",
              "    <tr>\n",
              "      <th>6</th>\n",
              "      <td>RAGE</td>\n",
              "      <td>4.652250</td>\n",
              "    </tr>\n",
              "    <tr>\n",
              "      <th>20</th>\n",
              "      <td>steriods</td>\n",
              "      <td>4.633234</td>\n",
              "    </tr>\n",
              "    <tr>\n",
              "      <th>21</th>\n",
              "      <td>timeto_waitlist</td>\n",
              "      <td>4.229344</td>\n",
              "    </tr>\n",
              "    <tr>\n",
              "      <th>54</th>\n",
              "      <td>los_p2</td>\n",
              "      <td>3.994615</td>\n",
              "    </tr>\n",
              "    <tr>\n",
              "      <th>34</th>\n",
              "      <td>height_tx</td>\n",
              "      <td>3.814054</td>\n",
              "    </tr>\n",
              "    <tr>\n",
              "      <th>12</th>\n",
              "      <td>dbmi</td>\n",
              "      <td>2.941777</td>\n",
              "    </tr>\n",
              "    <tr>\n",
              "      <th>23</th>\n",
              "      <td>zipcode_change</td>\n",
              "      <td>2.799637</td>\n",
              "    </tr>\n",
              "    <tr>\n",
              "      <th>43</th>\n",
              "      <td>como_tot</td>\n",
              "      <td>2.723473</td>\n",
              "    </tr>\n",
              "    <tr>\n",
              "      <th>15</th>\n",
              "      <td>los</td>\n",
              "      <td>2.651927</td>\n",
              "    </tr>\n",
              "    <tr>\n",
              "      <th>49</th>\n",
              "      <td>rbmi_tx_p3</td>\n",
              "      <td>2.478134</td>\n",
              "    </tr>\n",
              "    <tr>\n",
              "      <th>50</th>\n",
              "      <td>dbmi_p2</td>\n",
              "      <td>2.405374</td>\n",
              "    </tr>\n",
              "    <tr>\n",
              "      <th>47</th>\n",
              "      <td>timeto_waitlist_p3</td>\n",
              "      <td>2.316747</td>\n",
              "    </tr>\n",
              "    <tr>\n",
              "      <th>39</th>\n",
              "      <td>sbp_pct_over_95th</td>\n",
              "      <td>2.230119</td>\n",
              "    </tr>\n",
              "    <tr>\n",
              "      <th>17</th>\n",
              "      <td>prior_tx</td>\n",
              "      <td>1.982117</td>\n",
              "    </tr>\n",
              "    <tr>\n",
              "      <th>16</th>\n",
              "      <td>modality_tx</td>\n",
              "      <td>1.736911</td>\n",
              "    </tr>\n",
              "    <tr>\n",
              "      <th>53</th>\n",
              "      <td>cold_isch_pump_ki_p3</td>\n",
              "      <td>1.643528</td>\n",
              "    </tr>\n",
              "  </tbody>\n",
              "</table>\n",
              "</div>"
            ],
            "text/plain": [
              "                features  importance\n",
              "22               vintage   11.502837\n",
              "37         dbp_stay_mean    6.734919\n",
              "46    timeto_waitlist_p2    5.553072\n",
              "2                   DSEX    4.985403\n",
              "6                   RAGE    4.652250\n",
              "20              steriods    4.633234\n",
              "21       timeto_waitlist    4.229344\n",
              "54                los_p2    3.994615\n",
              "34             height_tx    3.814054\n",
              "12                  dbmi    2.941777\n",
              "23        zipcode_change    2.799637\n",
              "43              como_tot    2.723473\n",
              "15                   los    2.651927\n",
              "49            rbmi_tx_p3    2.478134\n",
              "50               dbmi_p2    2.405374\n",
              "47    timeto_waitlist_p3    2.316747\n",
              "39     sbp_pct_over_95th    2.230119\n",
              "17              prior_tx    1.982117\n",
              "16           modality_tx    1.736911\n",
              "53  cold_isch_pump_ki_p3    1.643528"
            ]
          },
          "metadata": {
            "tags": []
          },
          "execution_count": 10
        }
      ]
    },
    {
      "cell_type": "markdown",
      "metadata": {
        "id": "qQPJhhUDNScT",
        "colab_type": "text"
      },
      "source": [
        "##LGBM model"
      ]
    },
    {
      "cell_type": "code",
      "metadata": {
        "id": "oH_8pRItJvbR",
        "colab_type": "code",
        "colab": {}
      },
      "source": [
        "!pip uninstall lightgbm\n",
        "!pip install lightgbm --install-option=--gpu"
      ],
      "execution_count": 0,
      "outputs": []
    },
    {
      "cell_type": "code",
      "metadata": {
        "id": "5W286xflKJnf",
        "colab_type": "code",
        "colab": {}
      },
      "source": [
        "import os,  pandas as pd,  numpy as np, gc\n",
        "from sklearn.metrics import roc_auc_score\n",
        "from sklearn.model_selection import StratifiedKFold\n",
        "from hyperopt import fmin, hp, tpe, STATUS_OK, Trials\n",
        "from sklearn.preprocessing import LabelEncoder\n",
        "import lightgbm as lgbm\n",
        "import warnings\n",
        "warnings.filterwarnings(\"ignore\")"
      ],
      "execution_count": 0,
      "outputs": []
    },
    {
      "cell_type": "code",
      "metadata": {
        "id": "GBw4yV1FKtaw",
        "colab_type": "code",
        "colab": {}
      },
      "source": [
        "X_lgb = X.copy()\n",
        "cat_col = [X_lgb.columns.get_loc(col) for col in X_lgb.columns if X_lgb[col].nunique() <= 10]\n",
        "for col in X_lgb.columns:\n",
        "    if X_lgb[col].dtype == 'O':\n",
        "        X_lgb[col] = LabelEncoder().fit_transform(X_lgb[col].fillna('Unknown'))\n",
        "    elif X_lgb[col].nunique() <= 10:\n",
        "        X_lgb[col] = LabelEncoder().fit_transform(X_lgb[col].fillna(99))"
      ],
      "execution_count": 0,
      "outputs": []
    },
    {
      "cell_type": "code",
      "metadata": {
        "id": "pHp-8Ip9HvtA",
        "colab_type": "code",
        "outputId": "9f44bd50-d3ab-4a80-ecb7-31e39e5e111b",
        "colab": {
          "base_uri": "https://localhost:8080/",
          "height": 34
        }
      },
      "source": [
        "lgbm_param = {\n",
        "        'num_leaves': scope.int(hp.quniform('num_leaves', 2, 21, 1)),\n",
        "        'learning_rate': hp.uniform('learning_rate', 0.005, 0.1),\n",
        "        'feature_fraction': hp.uniform('feature_fraction', 0.05, 1),\n",
        "        'max_depth': scope.int(hp.quniform('max_depth', 2, 11, 1)),\n",
        "        'objective': 'binary',\n",
        "#         'boosting_type': 'dart',\n",
        "        'metric': 'auc',\n",
        "        'verbose': -1,\n",
        "       'device_type': 'gpu'\n",
        "    }\n",
        "\n",
        "def f_lgbm(params):\n",
        "    lgbm_pred = np.zeros((len(X_lgb), ))\n",
        "    auc = np.zeros(5)\n",
        "    featureimp = np.zeros(X_lgb.shape[1])\n",
        "    for i, (tr_idx, te_idx) in enumerate(StratifiedKFold(5, True, 2019).split(X_lgb, y)):\n",
        "        tr_data = lgbm.Dataset(X_lgb.values[tr_idx], y.ravel()[tr_idx], categorical_feature=cat_col)\n",
        "        te_data = lgbm.Dataset(X_lgb.values[te_idx], y.ravel()[te_idx], categorical_feature=cat_col)\n",
        "        clf = lgbm.train(params,\n",
        "                         tr_data,\n",
        "                         num_boost_round=9999999,\n",
        "                         verbose_eval=False,\n",
        "                         valid_sets=[tr_data, te_data],\n",
        "                         early_stopping_rounds=200,\n",
        "                    )\n",
        "        lgbm_pred[te_idx] = clf.predict(X_lgb.values[te_idx], num_iteration=clf.best_iteration)\n",
        "        featureimp += clf.feature_importance() / 5\n",
        "        auc[i] = roc_auc_score(y.ravel()[te_idx], lgbm_pred[te_idx])\n",
        "        del clf\n",
        "        gc.collect()\n",
        "    return {'loss': -np.mean(auc).round(5), 'status': STATUS_OK, 'featureimp': featureimp}\n",
        "\n",
        "trials_lgb = Trials()\n",
        "lgbm_best = fmin(f_lgbm, lgbm_param, algo=tpe.suggest, rstate=np.random.RandomState(2019), max_evals=100, trials=trials_lgb)"
      ],
      "execution_count": 0,
      "outputs": [
        {
          "output_type": "stream",
          "text": [
            "100%|██████████| 100/100 [04:40<00:00,  2.79s/it, best loss: -0.72094]\n"
          ],
          "name": "stdout"
        }
      ]
    },
    {
      "cell_type": "code",
      "metadata": {
        "id": "j0QETqdOU-V9",
        "colab_type": "code",
        "outputId": "bb895e81-5b17-40be-c7ba-18eec75f9ef4",
        "colab": {
          "base_uri": "https://localhost:8080/",
          "height": 34
        }
      },
      "source": [
        "print(lgbm_best)"
      ],
      "execution_count": 0,
      "outputs": [
        {
          "output_type": "stream",
          "text": [
            "{'feature_fraction': 0.7252110908840691, 'learning_rate': 0.05424251770533308, 'max_depth': 8, 'num_leaves': 16}\n"
          ],
          "name": "stdout"
        }
      ]
    },
    {
      "cell_type": "code",
      "metadata": {
        "id": "ttM8GMNdQ-a_",
        "colab_type": "code",
        "outputId": "b4a16a5b-5a70-4e0b-b727-25bcacca64cf",
        "colab": {
          "base_uri": "https://localhost:8080/",
          "height": 639
        }
      },
      "source": [
        " pd.DataFrame({'features': X_lgb.columns, 'importance': trials_lgb.best_trial['result']['featureimp']}).sort_values('importance', ascending=False).head(20)"
      ],
      "execution_count": 0,
      "outputs": [
        {
          "output_type": "execute_result",
          "data": {
            "text/html": [
              "<div>\n",
              "<style scoped>\n",
              "    .dataframe tbody tr th:only-of-type {\n",
              "        vertical-align: middle;\n",
              "    }\n",
              "\n",
              "    .dataframe tbody tr th {\n",
              "        vertical-align: top;\n",
              "    }\n",
              "\n",
              "    .dataframe thead th {\n",
              "        text-align: right;\n",
              "    }\n",
              "</style>\n",
              "<table border=\"1\" class=\"dataframe\">\n",
              "  <thead>\n",
              "    <tr style=\"text-align: right;\">\n",
              "      <th></th>\n",
              "      <th>features</th>\n",
              "      <th>importance</th>\n",
              "    </tr>\n",
              "  </thead>\n",
              "  <tbody>\n",
              "    <tr>\n",
              "      <th>39</th>\n",
              "      <td>sbp_pct_over_95th</td>\n",
              "      <td>13.8</td>\n",
              "    </tr>\n",
              "    <tr>\n",
              "      <th>21</th>\n",
              "      <td>timeto_waitlist</td>\n",
              "      <td>10.4</td>\n",
              "    </tr>\n",
              "    <tr>\n",
              "      <th>22</th>\n",
              "      <td>vintage</td>\n",
              "      <td>5.4</td>\n",
              "    </tr>\n",
              "    <tr>\n",
              "      <th>12</th>\n",
              "      <td>dbmi</td>\n",
              "      <td>4.8</td>\n",
              "    </tr>\n",
              "    <tr>\n",
              "      <th>46</th>\n",
              "      <td>timeto_waitlist_p2</td>\n",
              "      <td>4.0</td>\n",
              "    </tr>\n",
              "    <tr>\n",
              "      <th>47</th>\n",
              "      <td>timeto_waitlist_p3</td>\n",
              "      <td>3.8</td>\n",
              "    </tr>\n",
              "    <tr>\n",
              "      <th>37</th>\n",
              "      <td>dbp_stay_mean</td>\n",
              "      <td>3.6</td>\n",
              "    </tr>\n",
              "    <tr>\n",
              "      <th>40</th>\n",
              "      <td>dbp_pct_over_95th</td>\n",
              "      <td>3.2</td>\n",
              "    </tr>\n",
              "    <tr>\n",
              "      <th>50</th>\n",
              "      <td>dbmi_p2</td>\n",
              "      <td>3.0</td>\n",
              "    </tr>\n",
              "    <tr>\n",
              "      <th>35</th>\n",
              "      <td>sbp_stay_mean</td>\n",
              "      <td>3.0</td>\n",
              "    </tr>\n",
              "    <tr>\n",
              "      <th>36</th>\n",
              "      <td>sbp_stay_median</td>\n",
              "      <td>2.8</td>\n",
              "    </tr>\n",
              "    <tr>\n",
              "      <th>18</th>\n",
              "      <td>rbmi_tx</td>\n",
              "      <td>2.8</td>\n",
              "    </tr>\n",
              "    <tr>\n",
              "      <th>52</th>\n",
              "      <td>cold_isch_pump_ki_p2</td>\n",
              "      <td>2.6</td>\n",
              "    </tr>\n",
              "    <tr>\n",
              "      <th>24</th>\n",
              "      <td>cold_isch_pump_ki</td>\n",
              "      <td>2.6</td>\n",
              "    </tr>\n",
              "    <tr>\n",
              "      <th>16</th>\n",
              "      <td>modality_tx</td>\n",
              "      <td>2.6</td>\n",
              "    </tr>\n",
              "    <tr>\n",
              "      <th>1</th>\n",
              "      <td>DRACE</td>\n",
              "      <td>2.4</td>\n",
              "    </tr>\n",
              "    <tr>\n",
              "      <th>34</th>\n",
              "      <td>height_tx</td>\n",
              "      <td>2.4</td>\n",
              "    </tr>\n",
              "    <tr>\n",
              "      <th>38</th>\n",
              "      <td>dbp_stay_median</td>\n",
              "      <td>2.2</td>\n",
              "    </tr>\n",
              "    <tr>\n",
              "      <th>0</th>\n",
              "      <td>DAGE</td>\n",
              "      <td>2.0</td>\n",
              "    </tr>\n",
              "    <tr>\n",
              "      <th>11</th>\n",
              "      <td>cmv_risk</td>\n",
              "      <td>1.6</td>\n",
              "    </tr>\n",
              "  </tbody>\n",
              "</table>\n",
              "</div>"
            ],
            "text/plain": [
              "                features  importance\n",
              "39     sbp_pct_over_95th        13.8\n",
              "21       timeto_waitlist        10.4\n",
              "22               vintage         5.4\n",
              "12                  dbmi         4.8\n",
              "46    timeto_waitlist_p2         4.0\n",
              "47    timeto_waitlist_p3         3.8\n",
              "37         dbp_stay_mean         3.6\n",
              "40     dbp_pct_over_95th         3.2\n",
              "50               dbmi_p2         3.0\n",
              "35         sbp_stay_mean         3.0\n",
              "36       sbp_stay_median         2.8\n",
              "18               rbmi_tx         2.8\n",
              "52  cold_isch_pump_ki_p2         2.6\n",
              "24     cold_isch_pump_ki         2.6\n",
              "16           modality_tx         2.6\n",
              "1                  DRACE         2.4\n",
              "34             height_tx         2.4\n",
              "38       dbp_stay_median         2.2\n",
              "0                   DAGE         2.0\n",
              "11              cmv_risk         1.6"
            ]
          },
          "metadata": {
            "tags": []
          },
          "execution_count": 27
        }
      ]
    }
  ]
}